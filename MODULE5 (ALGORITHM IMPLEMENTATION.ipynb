{
 "cells": [
  {
   "cell_type": "code",
   "execution_count": 1,
   "id": "094f8663",
   "metadata": {},
   "outputs": [],
   "source": [
    "# Import the neccesary libraries\n",
    "\n",
    "import numpy as np\n",
    "import pandas as pd\n",
    "from sklearn.preprocessing import MinMaxScaler\n",
    "from tensorflow.keras.models import Sequential\n",
    "from tensorflow.keras.layers import LSTM, Dense\n",
    "import matplotlib.pyplot as plt"
   ]
  },
  {
   "cell_type": "code",
   "execution_count": 2,
   "id": "f3205422",
   "metadata": {},
   "outputs": [],
   "source": [
    "# Read data from the CSV file\n",
    "data_df = pd.read_csv('data.csv')"
   ]
  },
  {
   "cell_type": "code",
   "execution_count": 3,
   "id": "48ca9931",
   "metadata": {},
   "outputs": [],
   "source": [
    "# Function to create sequences for LSTM\n",
    "def create_sequences(data, seq_length):\n",
    "    sequences = []\n",
    "    for i in range(len(data) - seq_length):\n",
    "        seq = data[i : i + seq_length]\n",
    "        sequences.append(seq)\n",
    "    return np.array(sequences)"
   ]
  },
  {
   "cell_type": "code",
   "execution_count": 4,
   "id": "93189e73",
   "metadata": {},
   "outputs": [],
   "source": [
    "# Convert the Date column to a date object\n",
    "data_df['Date'] = pd.to_datetime(data_df['Date'])"
   ]
  },
  {
   "cell_type": "code",
   "execution_count": 5,
   "id": "42884518",
   "metadata": {},
   "outputs": [],
   "source": [
    "# Sort the data by Datetime\n",
    "data_df.sort_values('Date', inplace=True)"
   ]
  },
  {
   "cell_type": "code",
   "execution_count": 6,
   "id": "ff1d7b21",
   "metadata": {},
   "outputs": [],
   "source": [
    "\n",
    "data = data_df['Consumption'].values"
   ]
  },
  {
   "cell_type": "code",
   "execution_count": 7,
   "id": "d1db9d5e",
   "metadata": {},
   "outputs": [],
   "source": [
    "# Scale the data to the range [0, 1]\n",
    "scaler = MinMaxScaler(feature_range=(0, 1))\n",
    "data = scaler.fit_transform(data.reshape(-1, 1)).flatten()"
   ]
  },
  {
   "cell_type": "code",
   "execution_count": 8,
   "id": "11b6ac23",
   "metadata": {},
   "outputs": [],
   "source": [
    "# Set the sequence length and split the data into train and test sets\n",
    "sequence_length = 10\n",
    "train_size = int(0.9 * len(data))\n",
    "train_data = data[:train_size]\n",
    "test_data = data[train_size:]"
   ]
  },
  {
   "cell_type": "code",
   "execution_count": 9,
   "id": "4d0d40c3",
   "metadata": {},
   "outputs": [],
   "source": [
    "# Create sequences for training and testing\n",
    "X_train = create_sequences(train_data, sequence_length)\n",
    "y_train = train_data[sequence_length:]\n",
    "X_test = create_sequences(test_data, sequence_length)\n",
    "y_test = test_data[sequence_length:]"
   ]
  },
  {
   "cell_type": "code",
   "execution_count": 10,
   "id": "f10c9a4b",
   "metadata": {},
   "outputs": [],
   "source": [
    "# Build the LSTM model\n",
    "model = Sequential()\n",
    "model.add(LSTM(units=50, activation='relu', input_shape=(sequence_length, 1)))\n",
    "model.add(Dense(units=1))\n",
    "model.compile(optimizer='adam', loss='mean_squared_error')"
   ]
  },
  {
   "cell_type": "code",
   "execution_count": 11,
   "id": "c4d11f53",
   "metadata": {},
   "outputs": [
    {
     "name": "stdout",
     "output_type": "stream",
     "text": [
      "Epoch 1/100\n",
      "214/214 [==============================] - 2s 3ms/step - loss: 0.0119\n",
      "Epoch 2/100\n",
      "214/214 [==============================] - 1s 3ms/step - loss: 5.5929e-04\n",
      "Epoch 3/100\n",
      "214/214 [==============================] - 1s 3ms/step - loss: 4.9568e-04\n",
      "Epoch 4/100\n",
      "214/214 [==============================] - 1s 3ms/step - loss: 4.3646e-04\n",
      "Epoch 5/100\n",
      "214/214 [==============================] - 1s 3ms/step - loss: 3.8147e-04\n",
      "Epoch 6/100\n",
      "214/214 [==============================] - 1s 3ms/step - loss: 3.1412e-04\n",
      "Epoch 7/100\n",
      "214/214 [==============================] - 1s 3ms/step - loss: 2.4473e-04\n",
      "Epoch 8/100\n",
      "214/214 [==============================] - 1s 3ms/step - loss: 2.2738e-04\n",
      "Epoch 9/100\n",
      "214/214 [==============================] - 1s 3ms/step - loss: 2.2423e-04\n",
      "Epoch 10/100\n",
      "214/214 [==============================] - 1s 3ms/step - loss: 2.1538e-04\n",
      "Epoch 11/100\n",
      "214/214 [==============================] - 1s 3ms/step - loss: 2.0025e-04\n",
      "Epoch 12/100\n",
      "214/214 [==============================] - 1s 3ms/step - loss: 2.0310e-04\n",
      "Epoch 13/100\n",
      "214/214 [==============================] - 1s 3ms/step - loss: 1.9537e-04\n",
      "Epoch 14/100\n",
      "214/214 [==============================] - 1s 3ms/step - loss: 1.9192e-04\n",
      "Epoch 15/100\n",
      "214/214 [==============================] - 1s 3ms/step - loss: 1.8754e-04\n",
      "Epoch 16/100\n",
      "214/214 [==============================] - 1s 3ms/step - loss: 1.7696e-04\n",
      "Epoch 17/100\n",
      "214/214 [==============================] - 1s 3ms/step - loss: 1.8303e-04\n",
      "Epoch 18/100\n",
      "214/214 [==============================] - 1s 3ms/step - loss: 1.7946e-04\n",
      "Epoch 19/100\n",
      "214/214 [==============================] - 1s 3ms/step - loss: 1.8315e-04\n",
      "Epoch 20/100\n",
      "214/214 [==============================] - 1s 3ms/step - loss: 1.7069e-04\n",
      "Epoch 21/100\n",
      "214/214 [==============================] - 1s 3ms/step - loss: 1.7001e-04\n",
      "Epoch 22/100\n",
      "214/214 [==============================] - 1s 3ms/step - loss: 1.6962e-04\n",
      "Epoch 23/100\n",
      "214/214 [==============================] - 1s 3ms/step - loss: 1.6435e-04\n",
      "Epoch 24/100\n",
      "214/214 [==============================] - 1s 3ms/step - loss: 1.5831e-04\n",
      "Epoch 25/100\n",
      "214/214 [==============================] - 1s 3ms/step - loss: 1.7324e-04\n",
      "Epoch 26/100\n",
      "214/214 [==============================] - 1s 3ms/step - loss: 1.6399e-04\n",
      "Epoch 27/100\n",
      "214/214 [==============================] - 1s 3ms/step - loss: 1.5039e-04\n",
      "Epoch 28/100\n",
      "214/214 [==============================] - 1s 3ms/step - loss: 1.5342e-04\n",
      "Epoch 29/100\n",
      "214/214 [==============================] - 1s 3ms/step - loss: 1.5967e-04\n",
      "Epoch 30/100\n",
      "214/214 [==============================] - 1s 3ms/step - loss: 1.5629e-04\n",
      "Epoch 31/100\n",
      "214/214 [==============================] - 1s 3ms/step - loss: 1.4438e-04\n",
      "Epoch 32/100\n",
      "214/214 [==============================] - 1s 3ms/step - loss: 1.4370e-04\n",
      "Epoch 33/100\n",
      "214/214 [==============================] - 1s 3ms/step - loss: 1.4819e-04\n",
      "Epoch 34/100\n",
      "214/214 [==============================] - 1s 3ms/step - loss: 1.4375e-04\n",
      "Epoch 35/100\n",
      "214/214 [==============================] - 1s 3ms/step - loss: 1.3875e-04\n",
      "Epoch 36/100\n",
      "214/214 [==============================] - 1s 3ms/step - loss: 1.4001e-04\n",
      "Epoch 37/100\n",
      "214/214 [==============================] - 1s 3ms/step - loss: 1.3245e-04\n",
      "Epoch 38/100\n",
      "214/214 [==============================] - 1s 3ms/step - loss: 1.3587e-04\n",
      "Epoch 39/100\n",
      "214/214 [==============================] - 1s 3ms/step - loss: 1.3825e-04\n",
      "Epoch 40/100\n",
      "214/214 [==============================] - 1s 3ms/step - loss: 1.2738e-04\n",
      "Epoch 41/100\n",
      "214/214 [==============================] - 1s 3ms/step - loss: 1.2338e-04\n",
      "Epoch 42/100\n",
      "214/214 [==============================] - 1s 3ms/step - loss: 1.2598e-04\n",
      "Epoch 43/100\n",
      "214/214 [==============================] - 1s 3ms/step - loss: 1.1932e-04\n",
      "Epoch 44/100\n",
      "214/214 [==============================] - 1s 3ms/step - loss: 1.1960e-04\n",
      "Epoch 45/100\n",
      "214/214 [==============================] - 1s 3ms/step - loss: 1.2323e-04\n",
      "Epoch 46/100\n",
      "214/214 [==============================] - 1s 3ms/step - loss: 1.1876e-04\n",
      "Epoch 47/100\n",
      "214/214 [==============================] - 1s 4ms/step - loss: 1.1740e-04\n",
      "Epoch 48/100\n",
      "214/214 [==============================] - 1s 4ms/step - loss: 1.1321e-04\n",
      "Epoch 49/100\n",
      "214/214 [==============================] - 1s 4ms/step - loss: 1.1164e-04\n",
      "Epoch 50/100\n",
      "214/214 [==============================] - 1s 3ms/step - loss: 1.1308e-04\n",
      "Epoch 51/100\n",
      "214/214 [==============================] - 1s 3ms/step - loss: 1.0673e-04\n",
      "Epoch 52/100\n",
      "214/214 [==============================] - 1s 3ms/step - loss: 1.1257e-04\n",
      "Epoch 53/100\n",
      "214/214 [==============================] - 1s 3ms/step - loss: 1.0295e-04\n",
      "Epoch 54/100\n",
      "214/214 [==============================] - 1s 3ms/step - loss: 1.0383e-04\n",
      "Epoch 55/100\n",
      "214/214 [==============================] - 1s 3ms/step - loss: 9.9746e-05\n",
      "Epoch 56/100\n",
      "214/214 [==============================] - 1s 3ms/step - loss: 1.0244e-04\n",
      "Epoch 57/100\n",
      "214/214 [==============================] - 1s 3ms/step - loss: 1.0044e-04\n",
      "Epoch 58/100\n",
      "214/214 [==============================] - 1s 3ms/step - loss: 1.0620e-04\n",
      "Epoch 59/100\n",
      "214/214 [==============================] - 1s 3ms/step - loss: 9.8740e-05\n",
      "Epoch 60/100\n",
      "214/214 [==============================] - 1s 3ms/step - loss: 9.8081e-05\n",
      "Epoch 61/100\n",
      "214/214 [==============================] - 1s 3ms/step - loss: 9.7481e-05\n",
      "Epoch 62/100\n",
      "214/214 [==============================] - 1s 3ms/step - loss: 9.4420e-05\n",
      "Epoch 63/100\n",
      "214/214 [==============================] - 1s 3ms/step - loss: 9.4111e-05\n",
      "Epoch 64/100\n",
      "214/214 [==============================] - 1s 3ms/step - loss: 9.6747e-05\n",
      "Epoch 65/100\n",
      "214/214 [==============================] - 1s 3ms/step - loss: 9.3010e-05\n",
      "Epoch 66/100\n",
      "214/214 [==============================] - 1s 3ms/step - loss: 9.3753e-05\n",
      "Epoch 67/100\n",
      "214/214 [==============================] - 1s 3ms/step - loss: 9.7068e-05\n",
      "Epoch 68/100\n",
      "214/214 [==============================] - 1s 3ms/step - loss: 9.3441e-05\n",
      "Epoch 69/100\n",
      "214/214 [==============================] - 1s 3ms/step - loss: 9.8261e-05\n",
      "Epoch 70/100\n",
      "214/214 [==============================] - 1s 3ms/step - loss: 9.2934e-05\n",
      "Epoch 71/100\n",
      "214/214 [==============================] - 1s 3ms/step - loss: 9.5342e-05\n",
      "Epoch 72/100\n",
      "214/214 [==============================] - 1s 3ms/step - loss: 9.7549e-05\n",
      "Epoch 73/100\n",
      "214/214 [==============================] - 1s 3ms/step - loss: 9.1862e-05\n",
      "Epoch 74/100\n",
      "214/214 [==============================] - 1s 3ms/step - loss: 9.3538e-05\n",
      "Epoch 75/100\n",
      "214/214 [==============================] - 1s 3ms/step - loss: 9.2195e-05\n",
      "Epoch 76/100\n",
      "214/214 [==============================] - 1s 3ms/step - loss: 9.1147e-05\n",
      "Epoch 77/100\n",
      "214/214 [==============================] - 1s 3ms/step - loss: 9.1396e-05\n",
      "Epoch 78/100\n",
      "214/214 [==============================] - 1s 3ms/step - loss: 9.4427e-05\n",
      "Epoch 79/100\n",
      "214/214 [==============================] - 1s 3ms/step - loss: 9.0906e-05\n",
      "Epoch 80/100\n",
      "214/214 [==============================] - 1s 3ms/step - loss: 9.1168e-05\n",
      "Epoch 81/100\n",
      "214/214 [==============================] - 1s 3ms/step - loss: 9.1326e-05\n",
      "Epoch 82/100\n",
      "214/214 [==============================] - 1s 3ms/step - loss: 9.6208e-05\n",
      "Epoch 83/100\n",
      "214/214 [==============================] - 1s 3ms/step - loss: 9.4445e-05\n",
      "Epoch 84/100\n",
      "214/214 [==============================] - 1s 3ms/step - loss: 9.3683e-05\n",
      "Epoch 85/100\n",
      "214/214 [==============================] - 1s 3ms/step - loss: 8.9788e-05\n",
      "Epoch 86/100\n",
      "214/214 [==============================] - 1s 3ms/step - loss: 9.1611e-05\n",
      "Epoch 87/100\n",
      "214/214 [==============================] - 1s 3ms/step - loss: 8.8637e-05\n",
      "Epoch 88/100\n",
      "214/214 [==============================] - 1s 3ms/step - loss: 9.0221e-05\n",
      "Epoch 89/100\n",
      "214/214 [==============================] - 1s 3ms/step - loss: 9.4035e-05\n",
      "Epoch 90/100\n",
      "214/214 [==============================] - 1s 3ms/step - loss: 9.6452e-05\n",
      "Epoch 91/100\n",
      "214/214 [==============================] - 1s 3ms/step - loss: 9.3785e-05\n",
      "Epoch 92/100\n",
      "214/214 [==============================] - 1s 3ms/step - loss: 8.9105e-05\n",
      "Epoch 93/100\n",
      "214/214 [==============================] - 1s 3ms/step - loss: 9.3120e-05\n",
      "Epoch 94/100\n",
      "214/214 [==============================] - 1s 3ms/step - loss: 9.2304e-05\n",
      "Epoch 95/100\n"
     ]
    },
    {
     "name": "stdout",
     "output_type": "stream",
     "text": [
      "214/214 [==============================] - 1s 3ms/step - loss: 8.9812e-05\n",
      "Epoch 96/100\n",
      "214/214 [==============================] - 1s 3ms/step - loss: 8.8178e-05\n",
      "Epoch 97/100\n",
      "214/214 [==============================] - 1s 3ms/step - loss: 8.7193e-05\n",
      "Epoch 98/100\n",
      "214/214 [==============================] - 1s 3ms/step - loss: 8.7473e-05\n",
      "Epoch 99/100\n",
      "214/214 [==============================] - 1s 3ms/step - loss: 9.3913e-05\n",
      "Epoch 100/100\n",
      "214/214 [==============================] - 1s 3ms/step - loss: 8.7771e-05\n"
     ]
    },
    {
     "data": {
      "text/plain": [
       "<keras.callbacks.History at 0x165b54f3f40>"
      ]
     },
     "execution_count": 11,
     "metadata": {},
     "output_type": "execute_result"
    }
   ],
   "source": [
    "# Train the model\n",
    "model.fit(X_train, y_train, epochs=100, batch_size=16)"
   ]
  },
  {
   "cell_type": "code",
   "execution_count": 12,
   "id": "b9486567",
   "metadata": {},
   "outputs": [],
   "source": [
    "# Make predictions on the test data\n",
    "y_pred = model.predict(X_test)"
   ]
  },
  {
   "cell_type": "code",
   "execution_count": 13,
   "id": "bac57ad6",
   "metadata": {},
   "outputs": [],
   "source": [
    "# Inverse transform the predictions and actual values to their original scale\n",
    "y_pred = scaler.inverse_transform(y_pred)\n",
    "y_test = scaler.inverse_transform(y_test.reshape(-1, 1))"
   ]
  },
  {
   "cell_type": "code",
   "execution_count": 14,
   "id": "ec3ded61",
   "metadata": {},
   "outputs": [
    {
     "data": {
      "image/png": "[encoded data removed]",
      "text/plain": [
       "<Figure size 1000x600 with 1 Axes>"
      ]
     },
     "metadata": {},
     "output_type": "display_data"
    }
   ],
   "source": [
    "# Plot the results\n",
    "plt.figure(figsize=(10, 6))\n",
    "plt.plot(y_test, label='Actual')\n",
    "plt.plot(y_pred, label='Predicted')\n",
    "plt.legend()\n",
    "plt.xlabel('Date')\n",
    "plt.ylabel('Consumption')\n",
    "plt.title('LSTM Time Series Forecasting')\n",
    "plt.show()"
   ]
  },
  {
   "cell_type": "code",
   "execution_count": null,
   "id": "20370de3",
   "metadata": {},
   "outputs": [],
   "source": []
  },
  {
   "cell_type": "code",
   "execution_count": null,
   "id": "dc4fb7b1",
   "metadata": {},
   "outputs": [],
   "source": []
  },
  {
   "cell_type": "code",
   "execution_count": null,
   "id": "55539adb",
   "metadata": {},
   "outputs": [],
   "source": []
  }
 ],
 "metadata": {
  "kernelspec": {
   "display_name": "Python 3 (ipykernel)",
   "language": "python",
   "name": "python3"
  },
  "language_info": {
   "codemirror_mode": {
    "name": "ipython",
    "version": 3
   },
   "file_extension": ".py",
   "mimetype": "text/x-python",
   "name": "python",
   "nbconvert_exporter": "python",
   "pygments_lexer": "ipython3",
   "version": "3.9.13"
  }
 },
 "nbformat": 4,
 "nbformat_minor": 5
}
