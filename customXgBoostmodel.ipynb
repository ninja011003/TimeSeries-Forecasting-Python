{
 "cells": [
  {
   "cell_type": "code",
   "execution_count": 4,
   "metadata": {},
   "outputs": [],
   "source": [
    "import pandas as pd\n",
    "import matplotlib.pyplot as plt\n",
    "import xgboost as xgb\n"
   ]
  },
  {
   "cell_type": "code",
   "execution_count": 5,
   "metadata": {},
   "outputs": [],
   "source": [
    "df=pd.read_csv(\"time.csv\")"
   ]
  },
  {
   "cell_type": "code",
   "execution_count": 6,
   "metadata": {},
   "outputs": [],
   "source": [
    "df=pd.DataFrame(df)"
   ]
  },
  {
   "cell_type": "code",
   "execution_count": 7,
   "metadata": {},
   "outputs": [],
   "source": [
    "import pandas as pd\n",
    "import numpy as np\n",
    "import xgboost as xgb\n",
    "from sklearn.model_selection import train_test_split\n",
    "from sklearn.metrics import mean_squared_error\n",
    "from sklearn.model_selection import GridSearchCV"
   ]
  },
  {
   "cell_type": "code",
   "execution_count": 8,
   "metadata": {},
   "outputs": [],
   "source": [
    "# Convert 'date' column to datetime\n",
    "df['date'] = pd.to_datetime(df['date'])\n",
    "\n",
    "# Create additional features like year, month, day, and day of the week\n",
    "df['year'] = df['date'].dt.year\n",
    "df['month'] = df['date'].dt.month\n",
    "df['day'] = df['date'].dt.day\n",
    "df['day_of_week'] = df['date'].dt.dayofweek"
   ]
  },
  {
   "cell_type": "code",
   "execution_count": 9,
   "metadata": {},
   "outputs": [],
   "source": [
    "# Define the features and target variable\n",
    "X = df[['year', 'month', 'day', 'day_of_week']]\n",
    "y = df['consumption']\n",
    "\n",
    "# Split the data into training and testing sets\n",
    "X_train, X_test, y_train, y_test = train_test_split(X, y, test_size=0.2, random_state=0)"
   ]
  },
  {
   "cell_type": "code",
   "execution_count": 11,
   "metadata": {},
   "outputs": [],
   "source": [
    "from CustomXGBoost import (XGBRegressor,\n",
    "                           XGBRegressorAdam,\n",
    "                           XGBRegressorRMS,\n",
    "                           XGBClassifier\n",
    "                          )"
   ]
  },
  {
   "cell_type": "code",
   "execution_count": 18,
   "metadata": {},
   "outputs": [
    {
     "name": "stdout",
     "output_type": "stream",
     "text": [
      "[0] validation_set-rmse : 306188.98505240807\t[0] train_set-rmse : 292280.1643336298\n",
      "[1] validation_set-rmse : 306187.9715445571\t[1] train_set-rmse : 292279.1275346817\n",
      "[2] validation_set-rmse : 306186.79093905847\t[2] train_set-rmse : 292277.91979804484\n",
      "[3] validation_set-rmse : 306185.4931450201\t[3] train_set-rmse : 292276.59217982745\n",
      "[4] validation_set-rmse : 306184.1105645282\t[4] train_set-rmse : 292275.1778268199\n",
      "[5] validation_set-rmse : 306182.6661003343\t[5] train_set-rmse : 292273.7001681935\n",
      "[6] validation_set-rmse : 306181.17674053577\t[6] train_set-rmse : 292272.17658255226\n",
      "[7] validation_set-rmse : 306179.6554716222\t[7] train_set-rmse : 292270.6203549367\n",
      "[8] validation_set-rmse : 306178.11242016644\t[8] train_set-rmse : 292269.04184474744\n",
      "[9] validation_set-rmse : 306176.55558896146\t[9] train_set-rmse : 292267.44923879596\n",
      "[10] validation_set-rmse : 306174.9913591647\t[10] train_set-rmse : 292265.8490649862\n",
      "[11] validation_set-rmse : 306173.4248476867\t[11] train_set-rmse : 292264.24655791494\n",
      "[12] validation_set-rmse : 306171.8601700444\t[12] train_set-rmse : 292262.64592776436\n",
      "[13] validation_set-rmse : 306170.3006387567\t[13] train_set-rmse : 292261.05056325643\n",
      "[14] validation_set-rmse : 306168.74891622324\t[14] train_set-rmse : 292259.4631880447\n",
      "[15] validation_set-rmse : 306167.20713452616\t[15] train_set-rmse : 292257.8859832694\n",
      "[16] validation_set-rmse : 306165.67699061136\t[16] train_set-rmse : 292256.32068492577\n",
      "[17] validation_set-rmse : 306164.1598227719\t[17] train_set-rmse : 292254.76866210555\n",
      "[18] validation_set-rmse : 306162.65667269024\t[18] train_set-rmse : 292253.2309804659\n",
      "[19] validation_set-rmse : 306161.16833616333\t[19] train_set-rmse : 292251.70845412015\n",
      "[20] validation_set-rmse : 306159.69540484966\t[20] train_set-rmse : 292250.20168834476\n",
      "[21] validation_set-rmse : 306158.2383008168\t[21] train_set-rmse : 292248.71111492184\n",
      "[22] validation_set-rmse : 306156.7973052653\t[22] train_set-rmse : 292247.23702152324\n",
      "[23] validation_set-rmse : 306155.3725825005\t[23] train_set-rmse : 292245.77957623365\n",
      "[24] validation_set-rmse : 306153.96420000406\t[24] train_set-rmse : 292244.3388480846\n",
      "[25] validation_set-rmse : 306152.5721452823\t[25] train_set-rmse : 292242.91482428997\n",
      "[26] validation_set-rmse : 306151.19634003856\t[26] train_set-rmse : 292241.5074247445\n",
      "[27] validation_set-rmse : 306149.83665211324\t[27] train_set-rmse : 292240.116514239\n",
      "[28] validation_set-rmse : 306148.4929055539\t[28] train_set-rmse : 292238.74191276217\n",
      "[29] validation_set-rmse : 306147.16488911543\t[29] train_set-rmse : 292237.3834041963\n",
      "[30] validation_set-rmse : 306145.85236343526\t[30] train_set-rmse : 292236.0407436581\n",
      "[31] validation_set-rmse : 306144.55506709067\t[31] train_set-rmse : 292234.71366369503\n",
      "[32] validation_set-rmse : 306143.27272170834\t[32] train_set-rmse : 292233.40187951346\n",
      "[33] validation_set-rmse : 306142.0050362709\t[33] train_set-rmse : 292232.10509338323\n",
      "[34] validation_set-rmse : 306140.7517107399\t[34] train_set-rmse : 292230.82299834536\n",
      "[35] validation_set-rmse : 306139.5124390992\t[35] train_set-rmse : 292229.5552813246\n",
      "[36] validation_set-rmse : 306138.28691190225\t[36] train_set-rmse : 292228.30162573623\n",
      "[37] validation_set-rmse : 306137.07481839927\t[37] train_set-rmse : 292227.06171366194\n",
      "[38] validation_set-rmse : 306135.8758483048\t[38] train_set-rmse : 292225.835227658\n",
      "[39] validation_set-rmse : 306134.6896932586\t[39] train_set-rmse : 292224.6218522502\n",
      "[40] validation_set-rmse : 306133.5160480261\t[40] train_set-rmse : 292223.4212751618\n",
      "[41] validation_set-rmse : 306132.3546114755\t[41] train_set-rmse : 292222.2331883132\n",
      "[42] validation_set-rmse : 306131.2050873662\t[42] train_set-rmse : 292221.0572886289\n",
      "[43] validation_set-rmse : 306130.0671849755\t[43] train_set-rmse : 292219.8932786781\n",
      "[44] validation_set-rmse : 306128.9406195877\t[44] train_set-rmse : 292218.74086717574\n",
      "[45] validation_set-rmse : 306127.8251128684\t[45] train_set-rmse : 292217.5997693648\n",
      "[46] validation_set-rmse : 306126.7203931386\t[46] train_set-rmse : 292216.4697072975\n",
      "[47] validation_set-rmse : 306125.6261955667\t[47] train_set-rmse : 292215.3504100309\n",
      "[48] validation_set-rmse : 306124.54226228996\t[48] train_set-rmse : 292214.24161375215\n",
      "[49] validation_set-rmse : 306123.4683424774\t[49] train_set-rmse : 292213.1430618418\n",
      "[50] validation_set-rmse : 306122.4041923434\t[50] train_set-rmse : 292212.0545048886\n",
      "[51] validation_set-rmse : 306121.34957512026\t[51] train_set-rmse : 292210.97570066113\n",
      "[52] validation_set-rmse : 306120.3042609976\t[52] train_set-rmse : 292209.9064140456\n",
      "[53] validation_set-rmse : 306119.2680270333\t[53] train_set-rmse : 292208.8464169551\n",
      "[54] validation_set-rmse : 306118.2406570429\t[54] train_set-rmse : 292207.7954882163\n",
      "[55] validation_set-rmse : 306117.22194147\t[55] train_set-rmse : 292206.7534134368\n",
      "[56] validation_set-rmse : 306116.2116772437\t[56] train_set-rmse : 292205.71998485946\n",
      "[57] validation_set-rmse : 306115.20966762386\t[57] train_set-rmse : 292204.6950012039\n",
      "[58] validation_set-rmse : 306114.21572203905\t[58] train_set-rmse : 292203.67826750095\n",
      "[59] validation_set-rmse : 306113.22965591826\t[59] train_set-rmse : 292202.66959492036\n",
      "[60] validation_set-rmse : 306112.2512905189\t[60] train_set-rmse : 292201.6688005945\n",
      "[61] validation_set-rmse : 306111.2804527521\t[61] train_set-rmse : 292200.6757074405\n",
      "[62] validation_set-rmse : 306110.3169750082\t[62] train_set-rmse : 292199.69014398067\n",
      "[63] validation_set-rmse : 306109.3606949815\t[63] train_set-rmse : 292198.7119441641\n",
      "[64] validation_set-rmse : 306108.4114554967\t[64] train_set-rmse : 292197.74094718863\n",
      "[65] validation_set-rmse : 306107.4691043379\t[65] train_set-rmse : 292196.77699732577\n",
      "[66] validation_set-rmse : 306106.53349407937\t[66] train_set-rmse : 292195.8199437481\n",
      "[67] validation_set-rmse : 306105.60448192054\t[67] train_set-rmse : 292194.8696403598\n",
      "[68] validation_set-rmse : 306104.68192952377\t[68] train_set-rmse : 292193.92594563134\n",
      "[69] validation_set-rmse : 306103.76570285694\t[69] train_set-rmse : 292192.9887224379\n",
      "[70] validation_set-rmse : 306102.8556720397\t[70] train_set-rmse : 292192.05783790234\n",
      "[71] validation_set-rmse : 306101.951711194\t[71] train_set-rmse : 292191.1331632424\n",
      "[72] validation_set-rmse : 306101.05369829974\t[72] train_set-rmse : 292190.21457362245\n",
      "[73] validation_set-rmse : 306100.16151505435\t[73] train_set-rmse : 292189.3019480107\n",
      "[74] validation_set-rmse : 306099.27504673763\t[74] train_set-rmse : 292188.39516904\n",
      "[75] validation_set-rmse : 306098.39418208046\t[75] train_set-rmse : 292187.4941228743\n",
      "[76] validation_set-rmse : 306097.51881313877\t[76] train_set-rmse : 292186.598699079\n",
      "[77] validation_set-rmse : 306096.6488351713\t[77] train_set-rmse : 292185.70879049675\n",
      "[78] validation_set-rmse : 306095.78414652304\t[78] train_set-rmse : 292184.8242931272\n",
      "[79] validation_set-rmse : 306094.9246485113\t[79] train_set-rmse : 292183.9451060114\n",
      "[80] validation_set-rmse : 306094.07024531777\t[80] train_set-rmse : 292183.07113112055\n",
      "[81] validation_set-rmse : 306093.2208438834\t[81] train_set-rmse : 292182.2022732489\n",
      "[82] validation_set-rmse : 306092.3763538083\t[82] train_set-rmse : 292181.33843991143\n",
      "[83] validation_set-rmse : 306091.5366872548\t[83] train_set-rmse : 292180.47954124433\n",
      "[84] validation_set-rmse : 306090.701758855\t[84] train_set-rmse : 292179.6254899106\n",
      "[85] validation_set-rmse : 306089.8714856214\t[85] train_set-rmse : 292178.77620100864\n",
      "[86] validation_set-rmse : 306089.0457868617\t[86] train_set-rmse : 292177.93159198505\n",
      "[87] validation_set-rmse : 306088.2245840961\t[87] train_set-rmse : 292177.09158254985\n",
      "[88] validation_set-rmse : 306087.40780097904\t[88] train_set-rmse : 292176.2560945967\n",
      "[89] validation_set-rmse : 306086.5953632232\t[89] train_set-rmse : 292175.4250521251\n",
      "[90] validation_set-rmse : 306085.78719852713\t[90] train_set-rmse : 292174.59838116606\n",
      "[91] validation_set-rmse : 306084.9832365051\t[91] train_set-rmse : 292173.7760097107\n",
      "[92] validation_set-rmse : 306084.18340862094\t[92] train_set-rmse : 292172.9578676423\n",
      "[93] validation_set-rmse : 306083.3876481235\t[93] train_set-rmse : 292172.1438866704\n",
      "[94] validation_set-rmse : 306082.5958899851\t[94] train_set-rmse : 292171.3340002677\n",
      "[95] validation_set-rmse : 306081.80807084235\t[95] train_set-rmse : 292170.5281436098\n",
      "[96] validation_set-rmse : 306081.0241289398\t[96] train_set-rmse : 292169.72625351715\n",
      "[97] validation_set-rmse : 306080.24400407524\t[97] train_set-rmse : 292168.92826839956\n",
      "[98] validation_set-rmse : 306079.4676375475\t[98] train_set-rmse : 292168.13412820216\n",
      "[99] validation_set-rmse : 306078.69497210655\t[99] train_set-rmse : 292167.3437743549\n"
     ]
    }
   ],
   "source": [
    "model = XGBRegressorAdam()\n",
    "\n",
    "model = model.fit(X_train, y_train,\n",
    "          eval_set=(X_test.values,y_test))"
   ]
  },
  {
   "cell_type": "markdown",
   "metadata": {},
   "source": []
  }
 ],
 "metadata": {
  "kernelspec": {
   "display_name": "base",
   "language": "python",
   "name": "python3"
  },
  "language_info": {
   "codemirror_mode": {
    "name": "ipython",
    "version": 3
   },
   "file_extension": ".py",
   "mimetype": "text/x-python",
   "name": "python",
   "nbconvert_exporter": "python",
   "pygments_lexer": "ipython3",
   "version": "3.11.4"
  }
 },
 "nbformat": 4,
 "nbformat_minor": 2
}
